{
  "nbformat": 4,
  "nbformat_minor": 0,
  "metadata": {
    "colab": {
      "name": "Decision-Tree-2022.ipynb",
      "provenance": [],
      "collapsed_sections": [],
      "include_colab_link": true
    },
    "kernelspec": {
      "name": "python3",
      "display_name": "Python 3"
    },
    "language_info": {
      "name": "python"
    }
  },
  "cells": [
    {
      "cell_type": "markdown",
      "metadata": {
        "id": "view-in-github",
        "colab_type": "text"
      },
      "source": [
        "<a href=\"https://colab.research.google.com/github/pr-nit/DecitionTree-SVM-Lesson/blob/main/Decision_Tree_2022.ipynb\" target=\"_parent\"><img src=\"https://colab.research.google.com/assets/colab-badge.svg\" alt=\"Open In Colab\"/></a>"
      ]
    },
    {
      "cell_type": "markdown",
      "metadata": {
        "id": "OXlJMJ7AYf_c"
      },
      "source": [
        "# 決定木の構築/SVMの構築\n",
        "1. 木を深くするにつれて識別境界がどのように変化するかを観察します。不純度を求める基準を変化させると、意外と識別境界が変わることのあることを体験します。\n",
        "2. SVMでkernelを用いると境界が非線形になることを体験します。カーネル関数や正則化係数$C$を変更することで境界線の様相が変わることも観察します。"
      ]
    },
    {
      "cell_type": "markdown",
      "metadata": {
        "id": "8m399ehxZGVY"
      },
      "source": [
        "まず非線形な境界を持つデータを読み込みます。"
      ]
    },
    {
      "cell_type": "code",
      "metadata": {
        "id": "NUrreR3Z594E"
      },
      "source": [
        "from sklearn.datasets import make_moons\n",
        "import matplotlib.pyplot as plt\n",
        "from matplotlib.colors import ListedColormap\n",
        "\n",
        "# style\n",
        "colors = ['#e74c3c', '#3498db', '#1abc9c', '#9b59b6', '#f1c40f'] # red, blue, green, purple, yellow\n",
        "cmap = ListedColormap(colors)\n",
        "plt.style.use('seaborn')\n",
        "\n",
        "# 三日月状に分布するデータの読み込み。Xがデータでyがクラスラベルラベル\n",
        "X, y = make_moons(n_samples=100, noise=0.25, random_state=0)\n"
      ],
      "execution_count": null,
      "outputs": []
    },
    {
      "cell_type": "code",
      "metadata": {
        "id": "9ZbKX9ulZW5L"
      },
      "source": [
        "# 図示します。\n",
        "plt.figure(figsize=(4,4))\n",
        "plt.scatter(X[:,0], X[:,1], c=y, cmap=cmap, marker='.')\n",
        "plt.ylabel('X0')\n",
        "plt.xlabel('X1')\n",
        "\n",
        "plt.show()"
      ],
      "execution_count": null,
      "outputs": []
    },
    {
      "cell_type": "markdown",
      "metadata": {
        "id": "-TDF0QukZuFi"
      },
      "source": [
        "決定木を作ります。最大の深さを指定して剪定する方法を採用します。深さを変えたときに境界がどのように変化するか確認しましょう。\n",
        "\n",
        "まず描画の準備をして、その次に木を作ります。"
      ]
    },
    {
      "cell_type": "code",
      "metadata": {
        "id": "FOjO_vgh8Z5p"
      },
      "source": [
        "from matplotlib.colors import ListedColormap\n",
        "from sklearn.tree import DecisionTreeClassifier, export_graphviz\n",
        "import pydotplus\n",
        "import matplotlib.image as mpimg # Added\n",
        "import numpy as np\n",
        "\n",
        "# style\n",
        "colors = ['#e74c3c', '#3498db', '#1abc9c', '#9b59b6', '#f1c40f'] # red, blue, green, purple, yellow\n",
        "cmap = ListedColormap(colors)\n",
        "plt.style.use('seaborn')\n",
        "\n",
        "def paint_classified_area(ax, clf, X, t, nx=100, ny=100, margin=0.1):\n",
        "    x_min, x_max = (1 + margin) * X[:,0].min() - margin * X[:,0].max(), (1 + margin) * X[:,0].max() - margin * X[:,0].min()\n",
        "    y_min, y_max = (1 + margin) * X[:,1].min() - margin * X[:,1].max(), (1 + margin) * X[:,1].max() - margin * X[:,1].min()\n",
        "    xx, yy = np.meshgrid(np.linspace(x_min, x_max, nx), np.linspace(y_min, y_max, ny))\n",
        "    Z = (clf.predict(np.c_[xx.ravel(), yy.ravel()])).reshape(xx.shape)\n",
        "    ax.contourf(xx, yy, Z, alpha=0.1, colors=colors)\n",
        "\n",
        "def export_tree_graph(graph_name, features, classes):\n",
        "    dot_name=\"./dtc.dot\"\n",
        "    export_graphviz(dtc, \n",
        "                    out_file=dot_name, \n",
        "                    impurity = False, \n",
        "                    filled = False,\n",
        "                    class_names=classes,\n",
        "                    feature_names=features)\n",
        "    graph = pydotplus.graph_from_dot_file(dot_name)\n",
        "    graph.write_png(graph_name)\n",
        "    img = mpimg.imread(graph_name)\n",
        "    print(graph_name)\n",
        "    imgplot = plt.imshow(img)"
      ],
      "execution_count": null,
      "outputs": []
    },
    {
      "cell_type": "markdown",
      "metadata": {
        "id": "KVI1WrrkdEZ8"
      },
      "source": [
        "決定木を作ります。\n",
        "\n",
        "1.   max_depthを１から次第に大きくして（9くらいまででOK)変化を観察しましょう\n",
        "2.   不純度の算出法ををentropyからGiniに変更して木が変わるかどうか観察しましょう\n",
        "\n"
      ]
    },
    {
      "cell_type": "code",
      "metadata": {
        "id": "Hv6M70xuc1oL"
      },
      "source": [
        "# Prepare for the display of graphs\n",
        "fig, ax = plt.subplots(1,2, figsize = (15, 5))\n",
        "\n",
        "# Fit a Tree Model\n",
        "max_depth = 2 # Input HERE\n",
        "# Criterion can be entropy or gini\n",
        "dtc = DecisionTreeClassifier(criterion=\"entropy\",max_depth=max_depth, random_state=0)\n",
        "dtc.fit(X, y)\n",
        "print(\"accuracy:{:.3f}\".format(dtc.score(X, y)))\n",
        "\n",
        "# 結果の描画\n",
        "paint_classified_area(ax[0], dtc, X, y)\n",
        "    \n",
        "ax[0].scatter(X[:,0], X[:,1], c=y, cmap=cmap, marker='.')\n",
        "ax[0].set_title('max_depth : {}'.format(max_depth))\n",
        "ax[0].set_xlabel(\"X [0]\")\n",
        "ax[0].set_ylabel(\"X [1]\")\n",
        "    \n",
        "export_tree_graph(graph_name = \"dtc{}.pdf\".format(max_depth),features = [\"X[0]\",\"X[1]\"], classes = [\"upper\",\"lower\"])"
      ],
      "execution_count": null,
      "outputs": []
    },
    {
      "cell_type": "markdown",
      "metadata": {
        "id": "8UFgV6qElhL9"
      },
      "source": [
        "# SVMの構築\n",
        "同じデータに対してSVMを適用します。\n",
        "SVMは二種類作ります。\n",
        "一方は素のSVMで線形識別器です。「マージン」を最大にする線形な境界を求めます。もう一方ははkernel SVMです。カーネル関数には Radial Basis Function（俗称・ガウスカーネル）を使います。このカーネル関数は次式で与えられます。\n",
        "\n",
        "$k(x,y) = \\exp(-\\gamma \\| x - y\\|^2)$\n",
        "\n",
        "$\\gamma$の値を変えると、境界線の「柔らかさ」が変わります。どのように変わるか見てみましょう。($\\gamma$を小さくすると境界線は滑らかになると思います）"
      ]
    },
    {
      "cell_type": "code",
      "metadata": {
        "id": "s1weKZPFhBMA"
      },
      "source": [
        "from sklearn import svm\n",
        "\n",
        "# Prepare for the display of graphs\n",
        "fig, ax = plt.subplots(1,2, figsize = (15, 5))\n",
        "\n",
        "# まず線形なSVMを適用します。kernel='linear'と指定することで線形になります。\n",
        "svmc =svm.SVC(kernel = 'linear', C=1.0,class_weight='balanced', random_state=0) #loss='squared_hinge' #loss=\"hinge\", loss=\"log\"\n",
        "svmc.fit(X, y)\n",
        "# 線形SVMの結果を表示します。\n",
        "paint_classified_area(ax[0], svmc, X, y )\n",
        "ax[0].scatter(X[:,0], X[:,1], c=y, cmap=cmap, marker='.')\n",
        "ax[0].scatter(X[svmc.support_, 0], X[svmc.support_, 1], c=y[svmc.support_], cmap=cmap, marker='*')\n",
        "\n",
        "# 次にkernel SVMを適用します。kernel = 'rbf'と指定することでGaussian (Radial Basis Function)をカーネルと出来ます。gammaの値を変えると境界線が変わります。\n",
        "svmc =svm.SVC(kernel='rbf', gamma=1/2 , C=1.0,class_weight='balanced', random_state=0) #loss='squared_hinge' #loss=\"hinge\", loss=\"log\"\n",
        "svmc.fit(X, y)\n",
        "# kernel SVMの結果を表示します。\n",
        "paint_classified_area(ax[1], svmc, X, y )\n",
        "ax[1].scatter(X[:,0], X[:,1], c=y, cmap=cmap, marker='.')\n",
        "ax[1].scatter(X[svmc.support_, 0], X[svmc.support_, 1], c=y[svmc.support_], cmap=cmap, marker='*')"
      ],
      "execution_count": null,
      "outputs": []
    },
    {
      "cell_type": "markdown",
      "source": [
        "# 課題課題\n",
        "\n",
        "\n",
        "1.   決定木で depth = 1, 4, 9のときの出力画像をそれぞれ保存せよ。\n",
        "2.   SVMで gamma = 1/40, 1, 40 のときの出力画像をそれぞれ保存せよ。"
      ],
      "metadata": {
        "id": "3tzeQD-elxyo"
      }
    }
  ]
}